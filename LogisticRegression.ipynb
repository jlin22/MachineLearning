{
 "cells": [
  {
   "cell_type": "code",
   "execution_count": 118,
   "metadata": {},
   "outputs": [],
   "source": [
    "import numpy as np"
   ]
  },
  {
   "cell_type": "code",
   "execution_count": 119,
   "metadata": {},
   "outputs": [],
   "source": [
    "def initialize_parameters(X):\n",
    "    return np.zeros((X.shape[1] + 1, 1))\n",
    "def test_initialize_parameters():\n",
    "    X = np.array([[1, 2], [2, 3], [3, 4]])\n",
    "    W = initialize_parameters(X)\n",
    "    assert(W.shape == (X.shape[1] + 1, 1))"
   ]
  },
  {
   "cell_type": "code",
   "execution_count": 120,
   "metadata": {},
   "outputs": [],
   "source": [
    "def insert_bias(X):\n",
    "    X = np.hstack((np.ones((X.shape[0], 1)), X))\n",
    "    return X\n",
    "def test_insert_bias():\n",
    "    X = np.array([[1, 2], [2, 3], [3, 4]])\n",
    "    X = insert_bias(X)"
   ]
  },
  {
   "cell_type": "code",
   "execution_count": 121,
   "metadata": {},
   "outputs": [],
   "source": [
    "def sigmoid(Z):\n",
    "    return 1 / (1 + np.exp(-Z))\n",
    "def test_sigmoid():\n",
    "    pass"
   ]
  },
  {
   "cell_type": "code",
   "execution_count": 122,
   "metadata": {},
   "outputs": [],
   "source": [
    "def forward_pass(W, X):\n",
    "    Z = np.dot(X, W)\n",
    "    Y_pred = sigmoid(Z)\n",
    "    assert(Y_pred.shape == (X.shape[1], 1))\n",
    "    return Y_pred\n",
    "def test_forward_pass():\n",
    "    Y_pred = forward_pass(W, X)\n",
    "    print(Y_pred)"
   ]
  },
  {
   "cell_type": "code",
   "execution_count": 123,
   "metadata": {},
   "outputs": [],
   "source": [
    "def compute_cost(Y_pred, Y):\n",
    "    m = Y.shape[0]\n",
    "    cost = -1 / m * np.sum( np.multiply(Y, np.log(Y_pred)) + np.multiply(1 - Y, np.log(1 - Y_pred)), axis = 0)\n",
    "    cost = np.squeeze(cost)\n",
    "    assert(cost.shape == ())\n",
    "    return cost\n",
    "def test_compute_cost():\n",
    "    Y = np.array([[1], [1], [1]])\n",
    "    cost = compute_cost(Y_pred, Y)\n",
    "    print(cost)"
   ]
  },
  {
   "cell_type": "code",
   "execution_count": 124,
   "metadata": {},
   "outputs": [],
   "source": [
    "def backward_pass(W, X, Y_pred, Y, learning_rate):\n",
    "    dW = np.dot(X.T, Y_pred - Y)\n",
    "    assert(dW.shape == W.shape)\n",
    "    W = W - learning_rate * np.dot(X.T, Y_pred - Y)\n",
    "    return W\n",
    "def test_backward_pass():\n",
    "    learning_rate = 0.01\n",
    "    W = backward_pass(W, X, Y_pred, Y, learning_rate)\n",
    "    print(W)"
   ]
  },
  {
   "cell_type": "code",
   "execution_count": 142,
   "metadata": {},
   "outputs": [],
   "source": [
    "def model(X, Y, learning_rate, num_iters):\n",
    "    costs = []\n",
    "    W = initialize_parameters(X)\n",
    "    X = insert_bias(X)\n",
    "    for i in range(num_iters):\n",
    "        Y_pred = forward_pass(W, X)\n",
    "        cost = compute_cost(Y_pred, Y)\n",
    "        costs.append(cost)\n",
    "        W = backward_pass(W, X, Y_pred, Y, learning_rate)\n",
    "    return W, X, costs\n",
    "X = np.array([[1, 2], [2, 3], [3, 4]])\n",
    "Y = np.array([[1], [1], [1]])\n",
    "learning_rate = 0.1\n",
    "num_iters = 20\n",
    "W, X, costs = model(X, Y, learning_rate, num_iters)"
   ]
  },
  {
   "cell_type": "code",
   "execution_count": 143,
   "metadata": {},
   "outputs": [
    {
     "name": "stdout",
     "output_type": "stream",
     "text": [
      "[[0.95532814]\n",
      " [0.9911256 ]\n",
      " [0.99828843]]\n"
     ]
    }
   ],
   "source": [
    "print(forward_pass(W, X))"
   ]
  }
 ],
 "metadata": {
  "kernelspec": {
   "display_name": "Python 3",
   "language": "python",
   "name": "python3"
  },
  "language_info": {
   "codemirror_mode": {
    "name": "ipython",
    "version": 3
   },
   "file_extension": ".py",
   "mimetype": "text/x-python",
   "name": "python",
   "nbconvert_exporter": "python",
   "pygments_lexer": "ipython3",
   "version": "3.7.0"
  }
 },
 "nbformat": 4,
 "nbformat_minor": 2
}

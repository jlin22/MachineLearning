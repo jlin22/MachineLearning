{
 "cells": [
  {
   "cell_type": "code",
   "execution_count": 2,
   "metadata": {},
   "outputs": [],
   "source": [
    "import numpy as np"
   ]
  },
  {
   "cell_type": "code",
   "execution_count": 14,
   "metadata": {},
   "outputs": [],
   "source": [
    "def initialize_parameters(X):\n",
    "    return np.zeros((X.shape[1] + 1, 1))\n",
    "def test_initialize_parameters():\n",
    "    X = np.array([[1, 2], [2, 3], [3, 4]])\n",
    "    W = initialize_parameters(X)\n",
    "    assert(W.shape == (X.shape[1] + 1, 1))"
   ]
  },
  {
   "cell_type": "code",
   "execution_count": 4,
   "metadata": {},
   "outputs": [],
   "source": [
    "def insert_bias(X):\n",
    "    X = np.hstack((np.ones((X.shape[0], 1)), X))\n",
    "    return X\n",
    "def test_insert_bias():\n",
    "    X = np.array([[1, 2], [2, 3], [3, 4]])\n",
    "    X = insert_bias(X)"
   ]
  },
  {
   "cell_type": "code",
   "execution_count": 5,
   "metadata": {},
   "outputs": [],
   "source": [
    "def sigmoid(Z):\n",
    "    return 1 / (1 + np.exp(-Z))\n",
    "def test_sigmoid():\n",
    "    pass"
   ]
  },
  {
   "cell_type": "code",
   "execution_count": 6,
   "metadata": {},
   "outputs": [],
   "source": [
    "def forward_pass(W, X):\n",
    "    Z = np.dot(X, W)\n",
    "    Y_pred = sigmoid(Z)\n",
    "    assert(Y_pred.shape == (X.shape[1], 1))\n",
    "    return Y_pred\n",
    "def test_forward_pass():\n",
    "    X = np.array([[1, 2], [2, 3], [3, 4]])\n",
    "    W = initialize_parameters(X)\n",
    "    X = insert_bias(X)\n",
    "    Y_pred = forward_pass(W, X)\n",
    "    print(Y_pred)"
   ]
  },
  {
   "cell_type": "code",
   "execution_count": 24,
   "metadata": {},
   "outputs": [
    {
     "name": "stdout",
     "output_type": "stream",
     "text": [
      "0.6931471805599452\n"
     ]
    }
   ],
   "source": [
    "def compute_cost(Y_pred, Y):\n",
    "    m = Y.shape[0]\n",
    "    cost = -1 / m * np.sum( np.multiply(Y, np.log(Y_pred)) + np.multiply(1 - Y, np.log(1 - Y_pred)), axis = 0)\n",
    "    cost = np.squeeze(cost)\n",
    "    assert(cost.shape == ())\n",
    "    return cost\n",
    "def test_compute_cost():\n",
    "    X = np.array([[1, 2], [2, 3], [3, 4]])\n",
    "    W = initialize_parameters(X)\n",
    "    X = insert_bias(X)\n",
    "    Y_pred = forward_pass(W, X)\n",
    "    Y = np.array([[1], [1], [1]])\n",
    "    cost = compute_cost(Y_pred, Y)\n",
    "    print(cost)\n",
    "test_compute_cost()"
   ]
  },
  {
   "cell_type": "code",
   "execution_count": 23,
   "metadata": {},
   "outputs": [
    {
     "name": "stdout",
     "output_type": "stream",
     "text": [
      "0.6931471805599452\n"
     ]
    }
   ],
   "source": [
    "def compute_regularized_cost(Y_pred, Y, W, reg_const):\n",
    "    m = Y.shape[0]\n",
    "    cost = compute_cost(Y_pred, Y) + reg_const / (2 * m) * np.sum(W ** 2)\n",
    "    cost = np.squeeze(cost)\n",
    "    assert(cost.shape == ())\n",
    "    return cost\n",
    "def test_regularized_cost():\n",
    "    X = np.array([[1, 2], [2, 3], [3, 4]])\n",
    "    W = initialize_parameters(X)\n",
    "    X = insert_bias(X)\n",
    "    Y_pred = forward_pass(W, X)\n",
    "    Y = np.array([[1], [1], [1]])\n",
    "    reg_const = 0.01\n",
    "    cost = compute_regularized_cost(Y_pred, Y, W, reg_const)\n",
    "    print(cost)\n",
    "test_regularized_cost()"
   ]
  },
  {
   "cell_type": "code",
   "execution_count": 25,
   "metadata": {},
   "outputs": [],
   "source": [
    "def backward_pass(W, X, Y_pred, Y, learning_rate):\n",
    "    dW = np.dot(X.T, Y_pred - Y)\n",
    "    assert(dW.shape == W.shape)\n",
    "    W = W - learning_rate * dW\n",
    "    return W\n",
    "def test_backward_pass():\n",
    "    learning_rate = 0.01\n",
    "    W = backward_pass(W, X, Y_pred, Y, learning_rate)\n",
    "    print(W)"
   ]
  },
  {
   "cell_type": "code",
   "execution_count": 38,
   "metadata": {},
   "outputs": [],
   "source": [
    "def regularized_backward_pass(W, X, Y_pred, Y, learning_rate, reg_const):\n",
    "    m = X.shape[0]\n",
    "    dW = np.dot(X.T, Y_pred - Y) + reg_const / m * W\n",
    "    assert(dW.shape == W.shape)\n",
    "    W = W - learning_rate * dW\n",
    "    return W    "
   ]
  },
  {
   "cell_type": "code",
   "execution_count": 39,
   "metadata": {},
   "outputs": [],
   "source": [
    "def model(X, Y, learning_rate, num_iters, reg_const = 0):\n",
    "    costs = []\n",
    "    W = initialize_parameters(X)\n",
    "    X = insert_bias(X)\n",
    "    for i in range(num_iters):\n",
    "        Y_pred = forward_pass(W, X)\n",
    "        cost = compute_regularized_cost(Y_pred, Y, W, reg_const)\n",
    "        costs.append(cost)\n",
    "        W = regularized_backward_pass(W, X, Y_pred, Y, learning_rate, reg_const)\n",
    "    return W, X, costs\n",
    "X = np.array([[1, 2], [2, 3], [3, 4]])\n",
    "Y = np.array([[1], [1], [1]])\n",
    "learning_rate = 0.1\n",
    "num_iters = 20\n",
    "W, X, costs = model(X, Y, learning_rate, num_iters)"
   ]
  },
  {
   "cell_type": "code",
   "execution_count": null,
   "metadata": {},
   "outputs": [],
   "source": []
  }
 ],
 "metadata": {
  "kernelspec": {
   "display_name": "Python 3",
   "language": "python",
   "name": "python3"
  },
  "language_info": {
   "codemirror_mode": {
    "name": "ipython",
    "version": 3
   },
   "file_extension": ".py",
   "mimetype": "text/x-python",
   "name": "python",
   "nbconvert_exporter": "python",
   "pygments_lexer": "ipython3",
   "version": "3.6.5"
  }
 },
 "nbformat": 4,
 "nbformat_minor": 2
}

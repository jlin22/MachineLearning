{
 "cells": [
  {
   "cell_type": "markdown",
   "metadata": {},
   "source": [
    "Unsupervised Learning  \n",
    "K-Means Algorithm  \n",
    "1. Initialize Clusters (Randomly)  \n",
    "2. Cluster Assignment  \n",
    "3. Move Cluster  \n",
    "\n",
    "Dimensionality Reduction  \n",
    "Purposes  \n",
    "1. Data Compression\n",
    "2. Visualization\n",
    "3. Speed Up Algorithm\n",
    "\n",
    "Try your algorithm without dimensionality reduction first, then use it if you need it.\n",
    "\n",
    "Principle Components Analysis  \n",
    "1. Preprocess Data (Subtract the mean, then divide by range)\n",
    "2. Compute Covariance Matrix (```1 / m * np.dot(X.T, X)``` or ```cov(X)``` want a $\\mathbb{R}^{n \\times n}$ matrix)\n",
    "3. Compute the eigenvectors of the covariance (```eig(X)``` or ```u, s, v = svd(X)```)\n",
    "4. Take the first k eigenvalues of the U matrix and compute z (```Z = np.dot(X, U_reduce)```)  \n",
    "To calculate the original x, ```X = np.dot(np.dot(Z, U_reduce.T))```\n",
    "\n",
    "Choosing Number of Principle Components  \n",
    "Have a threshold for retained variance  \n",
    "Calculate the variance retained by $\\frac{sum_{i=1}^k S_{ii}}{sum_{i=1}^n S_{ii}}$  \n",
    "If the threshold is 99%, then the value about should be greater than 0.99\n",
    "\n",
    "\n",
    "\n",
    "    "
   ]
  },
  {
   "cell_type": "code",
   "execution_count": 8,
   "metadata": {},
   "outputs": [],
   "source": [
    "import numpy as np\n",
    "import random"
   ]
  },
  {
   "cell_type": "code",
   "execution_count": 79,
   "metadata": {},
   "outputs": [],
   "source": [
    "#randomly pick k points from the training set\n",
    "def initialize_centroids(K, X):\n",
    "    ids = random.sample(range(X.shape[0]), K)\n",
    "    centroids = []\n",
    "    for i in ids:\n",
    "        centroids.append(np.array(X[i]))\n",
    "    return centroids\n",
    "X = np.array([[1, 2], [3, 3], [5, 6], [7, 8]])\n",
    "centroids = initialize_centroids(2, X)\n",
    "    \n",
    "    "
   ]
  },
  {
   "cell_type": "code",
   "execution_count": 80,
   "metadata": {},
   "outputs": [
    {
     "name": "stdout",
     "output_type": "stream",
     "text": [
      "[array([1, 2]), array([7, 8])]\n",
      "[[1 2]\n",
      " [3 3]\n",
      " [5 6]\n",
      " [7 8]]\n",
      "0\n",
      "72\n",
      "5\n",
      "41\n",
      "32\n",
      "8\n",
      "72\n",
      "0\n"
     ]
    },
    {
     "data": {
      "text/plain": [
       "array([0., 0., 1., 1.])"
      ]
     },
     "execution_count": 80,
     "metadata": {},
     "output_type": "execute_result"
    }
   ],
   "source": [
    "#assign an id to each x\n",
    "def assign_clusters(clusters, X):\n",
    "    idx = np.zeros(X.shape[0])\n",
    "    for i in range(X.shape[0]):\n",
    "        min_dist = float(\"inf\")\n",
    "        best_c = 0\n",
    "        for c in range(len(clusters)):\n",
    "            dist = np.sum((clusters[c] - X[i]) ** 2)\n",
    "            print(dist)\n",
    "            if dist < min_dist:\n",
    "                best_c = c\n",
    "                min_dist = dist\n",
    "        idx[i] = best_c\n",
    "    return idx\n",
    "print(centroids)\n",
    "print(X)\n",
    "assign_clusters(centroids, X)"
   ]
  },
  {
   "cell_type": "code",
   "execution_count": 3,
   "metadata": {},
   "outputs": [
    {
     "ename": "SyntaxError",
     "evalue": "unexpected EOF while parsing (<ipython-input-3-58f8d1c6b49e>, line 1)",
     "output_type": "error",
     "traceback": [
      "\u001b[1;36m  File \u001b[1;32m\"<ipython-input-3-58f8d1c6b49e>\"\u001b[1;36m, line \u001b[1;32m1\u001b[0m\n\u001b[1;33m    def move_centroids(clusters, idx, X):\u001b[0m\n\u001b[1;37m                                          ^\u001b[0m\n\u001b[1;31mSyntaxError\u001b[0m\u001b[1;31m:\u001b[0m unexpected EOF while parsing\n"
     ]
    }
   ],
   "source": [
    "def move_centroids(clusters, idx, X): "
   ]
  },
  {
   "cell_type": "code",
   "execution_count": 2,
   "metadata": {},
   "outputs": [],
   "source": [
    "def kmeans(K, X, num_iters):\n",
    "    centroids = initialize_clusters(K)\n",
    "    idx = np.zeros()\n",
    "    for i in range(num_iters):\n",
    "        idx = assign_clusters(clusters, x)\n",
    "        centroids = move_centrois(clusters, idx, x)\n",
    "    return centroids, idx\n",
    "        \n",
    "    "
   ]
  }
 ],
 "metadata": {
  "kernelspec": {
   "display_name": "Python 3",
   "language": "python",
   "name": "python3"
  },
  "language_info": {
   "codemirror_mode": {
    "name": "ipython",
    "version": 3
   },
   "file_extension": ".py",
   "mimetype": "text/x-python",
   "name": "python",
   "nbconvert_exporter": "python",
   "pygments_lexer": "ipython3",
   "version": "3.6.5"
  }
 },
 "nbformat": 4,
 "nbformat_minor": 2
}

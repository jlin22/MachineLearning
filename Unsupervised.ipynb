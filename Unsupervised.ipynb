{
 "cells": [
  {
   "cell_type": "markdown",
   "metadata": {},
   "source": [
    "Unsupervised Learning  \n",
    "K-Means Algorithm  \n",
    "1. Initialize Clusters (Randomly)  \n",
    "2. Cluster Assignment  \n",
    "3. Move Cluster  \n",
    "\n",
    "Dimensionality Reduction  \n",
    "Purposes  \n",
    "1. Data Compression\n",
    "2. Visualization\n",
    "3. Speed Up Algorithm\n",
    "\n",
    "Try your algorithm without dimensionality reduction first, then use it if you need it.\n",
    "\n",
    "Principle Components Analysis  \n",
    "1. Preprocess Data (Subtract the mean, then divide by range)\n",
    "2. Compute Covariance Matrix (```1 / m * np.dot(X.T, X)``` or ```cov(X)``` want a $\\mathbb{R}^{n \\times n}$ matrix)\n",
    "3. Compute the eigenvectors of the covariance (```eig(X)``` or ```u, s, v = svd(X)```)\n",
    "4. Take the first k eigenvalues of the U matrix and compute z (```Z = np.dot(X, U_reduce)```)  \n",
    "To calculate the original x, ```X = np.dot(np.dot(Z, U_reduce.T))```\n",
    "\n",
    "Choosing Number of Principle Components  \n",
    "Have a threshold for retained variance  \n",
    "Calculate the variance retained by $\\frac{sum_{i=1}^k S_{ii}}{sum_{i=1}^n S_{ii}}$  \n",
    "If the threshold is 99%, then the value about should be greater than 0.99\n",
    "\n",
    "\n",
    "\n",
    "    "
   ]
  },
  {
   "cell_type": "code",
   "execution_count": 1,
   "metadata": {},
   "outputs": [
    {
     "ename": "SyntaxError",
     "evalue": "unexpected EOF while parsing (<ipython-input-1-7d99699152d3>, line 2)",
     "output_type": "error",
     "traceback": [
      "\u001b[1;36m  File \u001b[1;32m\"<ipython-input-1-7d99699152d3>\"\u001b[1;36m, line \u001b[1;32m2\u001b[0m\n\u001b[1;33m    \u001b[0m\n\u001b[1;37m    ^\u001b[0m\n\u001b[1;31mSyntaxError\u001b[0m\u001b[1;31m:\u001b[0m unexpected EOF while parsing\n"
     ]
    }
   ],
   "source": [
    "#randomly pick k points from the training set\n",
    "def initialize_centroids(k, x):\n",
    "    \n",
    "    "
   ]
  },
  {
   "cell_type": "code",
   "execution_count": 2,
   "metadata": {},
   "outputs": [
    {
     "ename": "SyntaxError",
     "evalue": "unexpected EOF while parsing (<ipython-input-2-0c6a135cce6b>, line 1)",
     "output_type": "error",
     "traceback": [
      "\u001b[1;36m  File \u001b[1;32m\"<ipython-input-2-0c6a135cce6b>\"\u001b[1;36m, line \u001b[1;32m1\u001b[0m\n\u001b[1;33m    def assign_clusters(k, x):\u001b[0m\n\u001b[1;37m                              ^\u001b[0m\n\u001b[1;31mSyntaxError\u001b[0m\u001b[1;31m:\u001b[0m unexpected EOF while parsing\n"
     ]
    }
   ],
   "source": [
    "def assign_clusters(clusters, x):"
   ]
  },
  {
   "cell_type": "code",
   "execution_count": null,
   "metadata": {},
   "outputs": [],
   "source": [
    "def move_centroids(clusters, x): "
   ]
  },
  {
   "cell_type": "code",
   "execution_count": null,
   "metadata": {},
   "outputs": [],
   "source": [
    "def kmeans(k, X):\n",
    "    clusters = initialize_clusters(k)\n",
    "    while ():\n",
    "        \n",
    "    "
   ]
  }
 ],
 "metadata": {
  "kernelspec": {
   "display_name": "Python 3",
   "language": "python",
   "name": "python3"
  },
  "language_info": {
   "codemirror_mode": {
    "name": "ipython",
    "version": 3
   },
   "file_extension": ".py",
   "mimetype": "text/x-python",
   "name": "python",
   "nbconvert_exporter": "python",
   "pygments_lexer": "ipython3",
   "version": "3.6.5"
  }
 },
 "nbformat": 4,
 "nbformat_minor": 2
}

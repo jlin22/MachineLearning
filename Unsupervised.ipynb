{
 "cells": [
  {
   "cell_type": "markdown",
   "metadata": {},
   "source": [
    "Unsupervised Learning  \n",
    "K-Means Algorithm  \n",
    "1. Initialize Clusters (Randomly)  \n",
    "2. Cluster Assignment  \n",
    "3. Move Cluster  \n",
    "\n",
    "Dimensionality Reduction  \n",
    "Purposes  \n",
    "1. Data Compression\n",
    "2. Visualization\n",
    "3. Speed Up Algorithm\n",
    "\n",
    "Try your algorithm without dimensionality reduction first, then use it if you need it.\n",
    "\n",
    "Principle Components Analysis  \n",
    "1. Preprocess Data (Subtract the mean, then divide by range)\n",
    "2. Compute Covariance Matrix (```1 / m * np.dot(X.T, X)``` or ```cov(X)``` want a $\\mathbb{R}^{n \\times n}$ matrix)\n",
    "3. Compute the eigenvectors of the covariance (```eig(X)``` or ```u, s, v = svd(X)```)\n",
    "4. Take the first k eigenvalues of the U matrix and compute z (```Z = np.dot(X, U_reduce)```)  \n",
    "To calculate the original x, ```X = np.dot(np.dot(Z, U_reduce.T))```\n",
    "\n",
    "Choosing Number of Principle Components  \n",
    "Have a threshold for retained variance  \n",
    "Calculate the variance retained by $\\frac{sum_{i=1}^k S_{ii}}{sum_{i=1}^n S_{ii}}$  \n",
    "If the threshold is 99%, then the value about should be greater than 0.99\n",
    "\n",
    "\n",
    "\n",
    "    "
   ]
  },
  {
   "cell_type": "code",
   "execution_count": 3,
   "metadata": {},
   "outputs": [],
   "source": [
    "import numpy as np\n",
    "import random"
   ]
  },
  {
   "cell_type": "code",
   "execution_count": 43,
   "metadata": {},
   "outputs": [],
   "source": [
    "#randomly pick k points from the training set\n",
    "def initialize_centroids(K, X):\n",
    "    ids = random.sample(range(X.shape[0]), K)\n",
    "    centroids = []\n",
    "    for i in ids:\n",
    "        centroids.append(np.array(X[i]))\n",
    "    centroids = np.array(centroids)\n",
    "    return centroids\n",
    "X = np.array([[1, 2], [3, 3], [5, 6], [7, 8]])\n",
    "centroids = initialize_centroids(2, X)"
   ]
  },
  {
   "cell_type": "code",
   "execution_count": 44,
   "metadata": {},
   "outputs": [
    {
     "name": "stdout",
     "output_type": "stream",
     "text": [
      "[[5 6]\n",
      " [7 8]]\n",
      "[0. 0. 0. 1.]\n"
     ]
    }
   ],
   "source": [
    "#assign an id to each x\n",
    "def assign_clusters(clusters, X):\n",
    "    idx = np.zeros(X.shape[0])\n",
    "    for i in range(X.shape[0]):\n",
    "        min_dist = float(\"inf\")\n",
    "        best_c = 0\n",
    "        for c in range(len(clusters)):\n",
    "            dist = np.sum((clusters[c] - X[i]) ** 2)\n",
    "            if dist < min_dist:\n",
    "                best_c = c\n",
    "                min_dist = dist\n",
    "        idx[i] = best_c\n",
    "    return idx\n",
    "idx = assign_clusters(centroids, X)\n",
    "print(centroids)\n",
    "print(idx)"
   ]
  },
  {
   "cell_type": "code",
   "execution_count": 45,
   "metadata": {},
   "outputs": [
    {
     "name": "stdout",
     "output_type": "stream",
     "text": [
      "[[5 6]\n",
      " [7 8]]\n",
      "[[3 3]\n",
      " [7 8]]\n"
     ]
    }
   ],
   "source": [
    "def move_centroids(clusters, idx, X): \n",
    "    for c in range(clusters.shape[1]):\n",
    "        centroid_mean = np.zeros((1, clusters.shape[1]))\n",
    "        count = 0\n",
    "        for i in range(len(idx)):\n",
    "            if (idx[i] == c):\n",
    "                centroid_mean = centroid_mean + X[i]\n",
    "                count += 1\n",
    "        clusters[c] = centroid_mean / count\n",
    "    return clusters\n",
    "print(centroids)\n",
    "clusters = move_centroids(centroids, idx, X)\n",
    "print(clusters)"
   ]
  },
  {
   "cell_type": "code",
   "execution_count": 67,
   "metadata": {},
   "outputs": [
    {
     "data": {
      "text/plain": [
       "(array([[6, 7],\n",
       "        [2, 2]]), array([1., 1., 0., 0.]))"
      ]
     },
     "execution_count": 67,
     "metadata": {},
     "output_type": "execute_result"
    }
   ],
   "source": [
    "def kmeans(K, X, num_iters):\n",
    "    centroids = initialize_centroids(K, X)\n",
    "    for i in range(num_iters):\n",
    "        idx = assign_clusters(clusters, X)\n",
    "        centroids = move_centroids(clusters, idx, X)\n",
    "    return centroids, idx\n",
    "kmeans(2, np.array([[1, 2], [3, 3], [5, 6], [7, 8]]), 4)"
   ]
  },
  {
   "cell_type": "code",
   "execution_count": 1,
   "metadata": {},
   "outputs": [],
   "source": [
    "def PCA(X, K):\n",
    "    Cov = 1 / m * np(X.T, X)\n",
    "    U, S, V = svd(Cov)\n",
    "    U_reduce = U[:, 1:K]\n",
    "    Z = np.dot(X, U_reduce)\n",
    "    X_rec = np.dot(Z, U_reduce.T)\n",
    "    return Z, X_rec"
   ]
  }
 ],
 "metadata": {
  "kernelspec": {
   "display_name": "Python 3",
   "language": "python",
   "name": "python3"
  },
  "language_info": {
   "codemirror_mode": {
    "name": "ipython",
    "version": 3
   },
   "file_extension": ".py",
   "mimetype": "text/x-python",
   "name": "python",
   "nbconvert_exporter": "python",
   "pygments_lexer": "ipython3",
   "version": "3.6.5"
  }
 },
 "nbformat": 4,
 "nbformat_minor": 2
}
